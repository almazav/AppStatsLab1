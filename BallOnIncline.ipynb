{
 "cells": [
  {
   "cell_type": "markdown",
   "metadata": {},
   "source": [
    "# Analyze Ball on Incline data\n"
   ]
  },
  {
   "cell_type": "code",
   "execution_count": 1,
   "metadata": {},
   "outputs": [],
   "source": [
    "# Imports\n",
    "import os, sys\n",
    "import numpy as np\n",
    "import matplotlib.pyplot as plt\n",
    "from scipy.signal import find_peaks\n",
    "import scipy.optimize\n",
    "from scipy import stats\n",
    "from sympy import * \n",
    "from IPython.core.display import Latex\n",
    "from iminuit import Minuit\n",
    "sys.path.append('External_Functions')\n",
    "from ExternalFunctions import Chi2Regression"
   ]
  },
  {
   "cell_type": "markdown",
   "metadata": {},
   "source": [
    "## 1.Theory"
   ]
  },
  {
   "cell_type": "code",
   "execution_count": 2,
   "metadata": {},
   "outputs": [
    {
     "name": "stdout",
     "output_type": "stream",
     "text": [
      "g is given by the equation:\n"
     ]
    },
    {
     "data": {
      "text/latex": [
       "$$g = \\frac{a \\left(\\frac{2 D_{ball}^{2}}{5 D_{ball}^{2} - \\frac{5 d_{rail}^{2}}{4}} + 1\\right)}{\\sin{\\left(\\theta \\right)}}$$"
      ],
      "text/plain": [
       "<IPython.core.display.Latex object>"
      ]
     },
     "metadata": {},
     "output_type": "display_data"
    },
    {
     "name": "stdout",
     "output_type": "stream",
     "text": [
      "The uncertanty on g is given by: \n"
     ]
    },
    {
     "data": {
      "text/latex": [
       "$$dg = \\sqrt{\\frac{25 D_{ball}^{4} a^{2} d_{rail}^{2} \\sigma_{drail}^{2}}{\\left(5 D_{ball}^{2} - \\frac{5 d_{rail}^{2}}{4}\\right)^{4} \\sin^{2}{\\left(\\theta \\right)}} + \\frac{a^{2} \\sigma_{Dball}^{2} \\left(- \\frac{20 D_{ball}^{3}}{\\left(5 D_{ball}^{2} - \\frac{5 d_{rail}^{2}}{4}\\right)^{2}} + \\frac{4 D_{ball}}{5 D_{ball}^{2} - \\frac{5 d_{rail}^{2}}{4}}\\right)^{2}}{\\sin^{2}{\\left(\\theta \\right)}} + \\frac{a^{2} \\sigma_{\\theta}^{2} \\left(\\frac{2 D_{ball}^{2}}{5 D_{ball}^{2} - \\frac{5 d_{rail}^{2}}{4}} + 1\\right)^{2} \\cos^{2}{\\left(\\theta \\right)}}{\\sin^{4}{\\left(\\theta \\right)}} + \\frac{\\sigma_{a}^{2} \\left(\\frac{2 D_{ball}^{2}}{5 D_{ball}^{2} - \\frac{5 d_{rail}^{2}}{4}} + 1\\right)^{2}}{\\sin^{2}{\\left(\\theta \\right)}}}$$"
      ],
      "text/plain": [
       "<IPython.core.display.Latex object>"
      ]
     },
     "metadata": {},
     "output_type": "display_data"
    }
   ],
   "source": [
    "def lprint(*args,**kwargs):\n",
    "    \"\"\"Pretty print arguments as LaTeX using IPython display system \n",
    "    \n",
    "    Parameters\n",
    "    ----------\n",
    "    args : tuple \n",
    "        What to print (in LaTeX math mode)\n",
    "    kwargs : dict \n",
    "        optional keywords to pass to `display` \n",
    "    \"\"\"\n",
    "    display(Latex('$$'+' '.join(args)+'$$'),**kwargs)\n",
    "    \n",
    "# Define variables g and dg:\n",
    "D_ball,d_rail,theta, Delta_theta, a, g = symbols(\"D_ball, d_rail, theta,Delta_theta,a,g\")\n",
    "dg,da,dtheta, dD_ball,dd_rail= symbols(\"sigma_g, sigma_a,sigma_theta, sigma_Dball, sigma_drail \")\n",
    "\n",
    "#define g and dg\n",
    "g = (a/sin(theta))*(1+(2*D_ball**2)/(5*(D_ball**2-d_rail**2/4)))\n",
    "dg = sqrt((g.diff(a) * da)**2 + (g.diff(theta) * dtheta)**2+(g.diff(D_ball) * dD_ball)**2 + (g.diff(d_rail) * dd_rail)**2)\n",
    "\n",
    "#create functions for g\n",
    "fg =lambdify((a,theta,D_ball,d_rail),g)\n",
    "fdg =lambdify((a,da,theta,dtheta,D_ball,dD_ball,d_rail,dd_rail),dg)\n",
    "#print using sympy\n",
    "print('g is given by the equation:')\n",
    "lprint(latex(Eq(symbols('g'),g)))\n",
    "print('The uncertanty on g is given by: ')\n",
    "lprint(latex(Eq(symbols('dg'),dg)))\n",
    "\n",
    "\n"
   ]
  },
  {
   "cell_type": "markdown",
   "metadata": {},
   "source": [
    "The paramteres $D_{ball}$, $d_{rail}$, $\\theta$ were meaured, the acceleration $a$ is calculated using the distance equation."
   ]
  },
  {
   "cell_type": "code",
   "execution_count": 3,
   "metadata": {},
   "outputs": [
    {
     "name": "stdout",
     "output_type": "stream",
     "text": [
      "The distance equation is given by:\n"
     ]
    },
    {
     "data": {
      "text/latex": [
       "$$S = a t^{2} + b t + c$$"
      ],
      "text/plain": [
       "<IPython.core.display.Latex object>"
      ]
     },
     "metadata": {},
     "output_type": "display_data"
    }
   ],
   "source": [
    "# Define variables distance and d_distance:\n",
    "S,a,t, b, c = symbols(\"S, a, t,b,c\")\n",
    "\n",
    "#define distance and d_distance\n",
    "S = a * t**2 + b * t + c\n",
    "\n",
    "#create functions for distance\n",
    "fd =lambdify((a,t,b,c),S)\n",
    "print('The distance equation is given by:')\n",
    "#print using sympy\n",
    "lprint(latex(Eq(symbols('S'),S)))\n"
   ]
  },
  {
   "cell_type": "markdown",
   "metadata": {},
   "source": [
    "## 2.Calculating acceleration $a$\n",
    "Acceleration is calculated using voltage and time measurments obtained in the lab."
   ]
  },
  {
   "cell_type": "markdown",
   "metadata": {},
   "source": [
    "### Functions"
   ]
  },
  {
   "cell_type": "code",
   "execution_count": 4,
   "metadata": {},
   "outputs": [],
   "source": [
    "def read_csv(filename):\n",
    "    \"\"\"Read CSV from Waveforms\"\"\"\n",
    "    dat = np.genfromtxt(filename, delimiter=',', skip_header=0, names=True)\n",
    "    time = dat['Time_s'][10:]\n",
    "    voltage = dat['Channel_1_V'][10:]\n",
    "    return time, voltage\n",
    "\n",
    "### Find_peaks\n",
    "def gradient_peaks(voltage,time):\n",
    "    \"\"\"Takes voltage and times (measured) \n",
    "    returnsvoltage gradient, peak of gradient indices, peak gradient time, condition\"\"\"\n",
    "    dV = np.gradient(voltage)\n",
    "    condition = dV>0\n",
    "    peak_index = find_peaks(dV,.1)[0]\n",
    "    times_grad = time[peak_index]\n",
    "    return dV, peak_index, times_grad,condition\n",
    "\n"
   ]
  },
  {
   "cell_type": "markdown",
   "metadata": {},
   "source": [
    "## Reading the data\n",
    "\n",
    "The function \"read_csv(filename)\" takes in a filename and returns numpy arrays with time and voltage."
   ]
  },
  {
   "cell_type": "code",
   "execution_count": 5,
   "metadata": {},
   "outputs": [],
   "source": [
    "# Read in the data (1 file test)\n",
    "file_balls = 'ball_time measurments/morten1.csv'\n",
    "file_noise = 'noise/noise1.csv'\n",
    "time, balls_voltage = read_csv(file_balls)\n",
    "noise_time,noise_voltage = read_csv(file_noise)\n",
    "voltage = balls_voltage - np.mean(noise_voltage)"
   ]
  },
  {
   "cell_type": "code",
   "execution_count": 6,
   "metadata": {},
   "outputs": [
    {
     "name": "stdout",
     "output_type": "stream",
     "text": [
      "Gradient peaks times: [0.471 0.664 0.809 0.93  1.039],\n",
      "\n",
      "with a voltage:[1.332 1.759 1.474 1.601 1.381],\n",
      "\n",
      "and indices:[4847 5808 6533 7140 7687]\n"
     ]
    }
   ],
   "source": [
    "### find peak gradient \n",
    "dV, peak_index, times_grad,condition = gradient_peaks(voltage,time)\n",
    "print(f\"\"\"Gradient peaks times: {np.round(times_grad,3)},\n",
    "\\nwith a voltage:{np.round(voltage[peak_index],3)},\n",
    "\\nand indices:{peak_index}\"\"\")"
   ]
  },
  {
   "cell_type": "markdown",
   "metadata": {},
   "source": [
    "###  how are we presenting this plot?"
   ]
  },
  {
   "cell_type": "code",
   "execution_count": 7,
   "metadata": {
    "code_folding": [],
    "scrolled": false
   },
   "outputs": [
    {
     "data": {
      "image/png": "[encoded data removed]",
      "text/plain": [
       "<Figure size 1008x720 with 2 Axes>"
      ]
     },
     "metadata": {
      "needs_background": "light"
     },
     "output_type": "display_data"
    }
   ],
   "source": [
    "### Original data plot\n",
    "fig, ax = plt.subplots(2,1, figsize=(14, 10))\n",
    "ax[0].plot(time, voltage, 'k.', label='Measurements')\n",
    "#ax.set_xlim(chi2_minpos-2*min_fit, chi2_minpos+2*max_fit)\n",
    "ax[0].set_title(\"Data from Ball-on-Incline experiment\")\n",
    "ax[0].set_ylabel(\"Voltage (V)\")\n",
    "ax[0].set_xlim(0.3,1.2)\n",
    "\n",
    "ax[1].plot(time,voltage,label='data')\n",
    "ax[1].plot(time[condition],dV[condition], label='gradient')\n",
    "ax[1].scatter(times_grad,voltage[peak_index],label='peaks')\n",
    "ax[1].set_ylabel(\"Voltage (V)\")\n",
    "ax[1].set_xlabel(\"Time (s)\")\n",
    "ax[1].set_xlim(0.3,1.2)\n",
    "ax[1].legend()\n",
    "plt.show()"
   ]
  },
  {
   "cell_type": "code",
   "execution_count": 8,
   "metadata": {},
   "outputs": [
    {
     "name": "stdout",
     "output_type": "stream",
     "text": [
      "The noise is 0.835  +/-  0.002\n"
     ]
    }
   ],
   "source": [
    "#get the mean of the noise, assuiming noise is gaussian\n",
    "noise_list =[]\n",
    "for i in range(1,7):\n",
    "    file_noise = f'noise/noise{i}.csv'\n",
    "    time, balls_voltage = read_csv(file_balls)\n",
    "    noise_time,noise_voltage = read_csv(file_noise)\n",
    "    noise_list.append(noise_voltage)\n",
    "noise = np.concatenate(noise_list)\n",
    "noise_mean = np.mean(noise)\n",
    "noise_std = np.std(noise)\n",
    "print(f'The noise is {noise_mean:1.3}  +/-  {noise_std:1.1}')"
   ]
  },
  {
   "cell_type": "code",
   "execution_count": 9,
   "metadata": {},
   "outputs": [
    {
     "data": {
      "text/plain": [
       "array([[0.4714, 0.6636, 0.8086, 0.93  , 1.0394],\n",
       "       [0.7538, 0.9458, 1.0904, 1.2116, 1.3208],\n",
       "       [0.6848, 0.877 , 1.0222, 1.1436, 1.2528],\n",
       "       [0.559 , 0.7508, 0.8954, 1.0166, 1.1258],\n",
       "       [0.6394, 0.832 , 0.9774, 1.0992, 1.2088],\n",
       "       [0.2714, 0.464 , 0.6092, 0.7306, 0.84  ],\n",
       "       [0.6428, 0.835 , 0.98  , 1.1014, 1.2108],\n",
       "       [1.1054, 1.2972, 1.442 , 1.5634, 1.6728],\n",
       "       [0.91  , 1.1032, 1.2488, 1.3704, 1.4798],\n",
       "       [0.461 , 0.6524, 0.797 , 0.9182, 1.0272],\n",
       "       [0.354 , 0.5454, 0.6898, 0.8112, 0.9202],\n",
       "       [0.3628, 0.554 , 0.6988, 0.8198, 0.9288],\n",
       "       [1.5218, 1.7116, 1.8558, 1.9766, 2.0854],\n",
       "       [0.642 , 0.8348, 0.98  , 1.102 , 1.2116],\n",
       "       [0.6086, 0.7988, 0.943 , 1.064 , 1.173 ],\n",
       "       [0.5328, 0.7244, 0.8692, 0.9906, 1.0996],\n",
       "       [0.3822, 0.5734, 0.718 , 0.8392, 0.9482],\n",
       "       [1.7352, 1.927 , 2.0718, 2.1932, 2.3026],\n",
       "       [0.9092, 1.1002, 1.2446, 1.3658, 1.475 ],\n",
       "       [0.971 , 1.164 , 1.3092, 1.4306, 1.54  ],\n",
       "       [1.514 , 1.704 , 1.8482, 1.969 , 2.0778],\n",
       "       [0.6142, 0.8048, 0.9488, 1.0698, 1.1788],\n",
       "       [0.2208, 0.4116, 0.5558, 0.6766, 0.7854],\n",
       "       [0.4242, 0.6152, 0.7594, 0.8806, 0.9892],\n",
       "       [0.3972, 0.589 , 0.734 , 0.8554, 0.9646],\n",
       "       [0.631 , 0.8224, 0.967 , 1.0882, 1.197 ],\n",
       "       [0.7938, 0.9858, 1.131 , 1.2524, 1.3618],\n",
       "       [0.7944, 0.9866, 1.1318, 1.2534, 1.3626],\n",
       "       [0.8648, 1.0566, 1.2016, 1.3232, 1.4322],\n",
       "       [1.0324, 1.224 , 1.3688, 1.49  , 1.5992]])"
      ]
     },
     "execution_count": 9,
     "metadata": {},
     "output_type": "execute_result"
    }
   ],
   "source": [
    "#get the times of all the balls using peak gradients\n",
    "ball_times_grad = np.zeros((30,5))\n",
    "\n",
    "#loop throug files and add the times in each row of ball_times_grad\n",
    "for i in range(1,31):\n",
    "    file_balls = f'ball_time measurments/morten{i}.csv'\n",
    "    time, balls_voltage = read_csv(file_balls)\n",
    "    voltage = balls_voltage - noise_mean\n",
    "    ### Find_peaks\n",
    "    dV, peak_index, times_grad,condition = gradient_peaks(balls_voltage,time)\n",
    "    ball_times_grad[i-1] = times_grad\n",
    "ball_times_grad"
   ]
  },
  {
   "cell_type": "code",
   "execution_count": 10,
   "metadata": {},
   "outputs": [
    {
     "name": "stdout",
     "output_type": "stream",
     "text": [
      "The mean the time measurments obtained using the gradient are:\n",
      "[0.     0.1916 0.3364 0.4577 0.5669] [s]\n",
      " \n",
      "with std:\n",
      "[0.     0.0008 0.0012 0.0014 0.0017][s]\n"
     ]
    }
   ],
   "source": [
    "#get the first time at time zero.does this make sense? \n",
    "grad_times = np.zeros(((30,5)))\n",
    "for i in range(5):\n",
    "    grad_times[:,i] = ball_times_grad[:,i] - ball_times_grad[:,0]\n",
    "grad_times\n",
    "times = np.mean(grad_times,axis =0)\n",
    "error_times = np.std(grad_times,axis=0)\n",
    "print(f\"\"\"The mean the time measurments obtained using the gradient are:\n",
    "{np.round(times,4)} [s]\\n \n",
    "with std:\\n{np.round(error_times,4)}[s]\"\"\") #is np.std the correct form to get the error?\n",
    "      "
   ]
  },
  {
   "cell_type": "code",
   "execution_count": 11,
   "metadata": {},
   "outputs": [
    {
     "name": "stdout",
     "output_type": "stream",
     "text": [
      "length 1:\n",
      "[26.  41.3 56.4 71.2 86.8] +/- 0.2 [cm]\n",
      "length 2:\n",
      "[25.1  41.2  55.15 72.5  85.3 ] +/- 0.02 [cm]\n",
      "length 3:\n",
      "[23.25 38.4  53.45 69.4  83.65] +/- 0.025 [cm]\n",
      "length 4:\n",
      "[23.275 38.475 53.475 68.425 83.7  ] +/- 0.005 [cm]\n"
     ]
    }
   ],
   "source": [
    "#get all sensor positions\n",
    "def read_csv_lenghts(filename):\n",
    "    \"\"\"Read CSV from Waveforms\"\"\"\n",
    "    dat = np.genfromtxt(filename, delimiter=',', skip_header=0, names=True)\n",
    "    lenghts = np.zeros((4,5))\n",
    "    lenghts[:,0] = dat['Length1']\n",
    "    lenghts[:,1] = dat['Length2']\n",
    "    lenghts[:,2] = dat['Length3']\n",
    "    lenghts[:,3] = dat['Length4']\n",
    "    lenghts[:,4] = dat['Length5']\n",
    "    Uncertanty = dat['Uncertainty']\n",
    "    return lenghts, Uncertanty\n",
    "#lenghts, Uncertanty = read_csv_lenghts('sensors_positions.csv')\n",
    "lengths, uncertainties = read_csv_lenghts('sensors_positions.csv')\n",
    "for i in range(len(uncertainties)):\n",
    "    print(f'length {i+1}:\\n{lengths[i]} +/- {uncertainties[i]} [cm]')"
   ]
  },
  {
   "cell_type": "code",
   "execution_count": 12,
   "metadata": {},
   "outputs": [
    {
     "name": "stdout",
     "output_type": "stream",
     "text": [
      "mean of lengths:\n",
      "[24.41 39.84 54.62 70.38 84.86]    [cm]\n",
      "mean normalized length in meters:\n",
      "[0.   0.15 0.3  0.46 0.6 ]    [cm]\n",
      "uncertanty on the lenght:\n",
      "0.06    [cm]\n"
     ]
    }
   ],
   "source": [
    "lengths_mean = np.mean(lengths,0)\n",
    "print(f'mean of lengths:\\n{np.round(lengths_mean,2)}    [cm]')\n",
    "#starting from zero, in meters\n",
    "length = (lengths_mean - lengths_mean[0])*1e-2\n",
    "print(f'mean normalized length in meters:\\n{np.round(length,2)}    [cm]')\n",
    "len_uncertainty = np.mean(uncertainties)  # again is this the right way to get the uncertanty? \n",
    "print(f'uncertanty on the lenght:\\n{np.round(len_uncertainty,2)}    [cm]')"
   ]
  },
  {
   "cell_type": "code",
   "execution_count": 13,
   "metadata": {},
   "outputs": [],
   "source": [
    "#I couldnt get S lambdify function to work \n",
    "def distance(t,acc,b,c):\n",
    "    return acc * t**2 + b*t + c"
   ]
  },
  {
   "cell_type": "code",
   "execution_count": 14,
   "metadata": {},
   "outputs": [
    {
     "name": "stdout",
     "output_type": "stream",
     "text": [
      "a*t^2+b*t+c:[ 7.02939041e-01  6.72421248e-01 -3.40610568e-04]\n",
      "[[ 3.59228671e-03 -2.02164477e-03  1.38697563e-04]\n",
      " [-2.02164477e-03  1.24123038e-03 -1.10194985e-04]\n",
      " [ 1.38697563e-04 -1.10194985e-04  1.94462533e-05]]\n"
     ]
    }
   ],
   "source": [
    "#fit the funtion using scipy\n",
    "fit_parameters,pvoc = scipy.optimize.curve_fit(distance, times,length)\n",
    "print(f'a*t^2+b*t+c:{fit_parameters}')\n",
    "print(pvoc)"
   ]
  },
  {
   "cell_type": "code",
   "execution_count": 17,
   "metadata": {},
   "outputs": [
    {
     "name": "stdout",
     "output_type": "stream",
     "text": [
      "a*t^2+b*t+c:[ 7.02939039e-01  6.72421249e-01 -3.40610733e-04]\n",
      "with respectuve erorros [0.26127796 0.15358313 0.01922362]\n"
     ]
    }
   ],
   "source": [
    "#fit function using iminuit\n",
    "Minuit.print_level = 0  \n",
    "#takes the function, data points, the result distance? the error on the distance?\n",
    "chi2_object = Chi2Regression(distance,times,length,len_uncertainty)\n",
    "chi2_object.errordef = 0.1 #definition\n",
    "\n",
    "#Here we let Minuit know, what to minimise, how, and with what starting parameters, shite example? \n",
    "minuit = Minuit(chi2_object,acc =0,b=0,c=0)\n",
    "#perform the fit\n",
    "minuit.migrad()\n",
    "#extractfit\n",
    "acc_fit = minuit.values['acc']\n",
    "error_acc = minuit.errors['acc']\n",
    "b_fit = minuit.values['b']\n",
    "error_b = minuit.errors['b']\n",
    "c_fit = minuit.values['c']\n",
    "error_c = minuit.errors['c']\n",
    "\n",
    "# Get the minimal value obtained for the quantity to be minimised (here the Chi2)\n",
    "chi2_fit = minuit.fval\n",
    "ndof = len(times) - minuit.nfit\n",
    "prob_fit = stats.chi2.sf(chi2_fit,ndof)\n",
    "\n",
    "#array with accelearation, b and c paramteres\n",
    "minuit_fit = np.array([acc_fit,b_fit,c_fit])\n",
    "minuit_fit_errors = np.array([error_acc,error_b,error_c])\n",
    "print(f'a*t^2+b*t+c:{minuit_fit}\\nwith respectuve erorros {minuit_fit_errors}')"
   ]
  },
  {
   "cell_type": "code",
   "execution_count": 18,
   "metadata": {},
   "outputs": [
    {
     "ename": "NameError",
     "evalue": "name 'uncertainty' is not defined",
     "output_type": "error",
     "traceback": [
      "\u001b[0;31m---------------------------------------------------------------------------\u001b[0m",
      "\u001b[0;31mNameError\u001b[0m                                 Traceback (most recent call last)",
      "\u001b[0;32m/tmp/ipykernel_10971/1436796412.py\u001b[0m in \u001b[0;36m<module>\u001b[0;34m\u001b[0m\n\u001b[1;32m      2\u001b[0m \u001b[0my_fit_grad\u001b[0m \u001b[0;34m=\u001b[0m \u001b[0mdistance\u001b[0m\u001b[0;34m(\u001b[0m\u001b[0mtimes\u001b[0m\u001b[0;34m,\u001b[0m\u001b[0;34m*\u001b[0m\u001b[0mfit_parameters\u001b[0m\u001b[0;34m)\u001b[0m\u001b[0;34m\u001b[0m\u001b[0;34m\u001b[0m\u001b[0m\n\u001b[1;32m      3\u001b[0m \u001b[0mplt\u001b[0m\u001b[0;34m.\u001b[0m\u001b[0mfigure\u001b[0m\u001b[0;34m(\u001b[0m\u001b[0mfigsize\u001b[0m\u001b[0;34m=\u001b[0m\u001b[0;34m(\u001b[0m\u001b[0;36m10\u001b[0m\u001b[0;34m,\u001b[0m\u001b[0;36m7\u001b[0m\u001b[0;34m)\u001b[0m\u001b[0;34m)\u001b[0m\u001b[0;34m\u001b[0m\u001b[0;34m\u001b[0m\u001b[0m\n\u001b[0;32m----> 4\u001b[0;31m \u001b[0mplt\u001b[0m\u001b[0;34m.\u001b[0m\u001b[0merrorbar\u001b[0m\u001b[0;34m(\u001b[0m\u001b[0mgrad_times\u001b[0m\u001b[0;34m[\u001b[0m\u001b[0;36m0\u001b[0m\u001b[0;34m]\u001b[0m\u001b[0;34m,\u001b[0m \u001b[0mlength\u001b[0m\u001b[0;34m,\u001b[0m \u001b[0muncertainty\u001b[0m\u001b[0;34m,\u001b[0m\u001b[0mlinestyle\u001b[0m\u001b[0;34m=\u001b[0m\u001b[0;34m':'\u001b[0m\u001b[0;34m,\u001b[0m\u001b[0mcolor\u001b[0m\u001b[0;34m=\u001b[0m\u001b[0;34m'tab:blue'\u001b[0m\u001b[0;34m,\u001b[0m \u001b[0mlabel\u001b[0m \u001b[0;34m=\u001b[0m\u001b[0;34m'normalized mean length'\u001b[0m\u001b[0;34m)\u001b[0m\u001b[0;34m\u001b[0m\u001b[0;34m\u001b[0m\u001b[0m\n\u001b[0m\u001b[1;32m      5\u001b[0m \u001b[0mplt\u001b[0m\u001b[0;34m.\u001b[0m\u001b[0mplot\u001b[0m\u001b[0;34m(\u001b[0m\u001b[0mgrad_times\u001b[0m\u001b[0;34m[\u001b[0m\u001b[0;36m0\u001b[0m\u001b[0;34m]\u001b[0m\u001b[0;34m,\u001b[0m \u001b[0my_fit_grad\u001b[0m\u001b[0;34m,\u001b[0m\u001b[0mcolor\u001b[0m\u001b[0;34m=\u001b[0m\u001b[0;34m'tab:red'\u001b[0m\u001b[0;34m,\u001b[0m \u001b[0mlabel\u001b[0m \u001b[0;34m=\u001b[0m \u001b[0;34m'fit'\u001b[0m\u001b[0;34m)\u001b[0m\u001b[0;34m\u001b[0m\u001b[0;34m\u001b[0m\u001b[0m\n\u001b[1;32m      6\u001b[0m \u001b[0mplt\u001b[0m\u001b[0;34m.\u001b[0m\u001b[0mlegend\u001b[0m\u001b[0;34m(\u001b[0m\u001b[0;34m)\u001b[0m\u001b[0;34m\u001b[0m\u001b[0;34m\u001b[0m\u001b[0m\n",
      "\u001b[0;31mNameError\u001b[0m: name 'uncertainty' is not defined"
     ]
    },
    {
     "data": {
      "text/plain": [
       "<Figure size 720x504 with 0 Axes>"
      ]
     },
     "metadata": {},
     "output_type": "display_data"
    }
   ],
   "source": [
    "## plot scypi optimize\n",
    "y_fit_grad = distance(times,*fit_parameters)\n",
    "plt.figure(figsize=(10,7))\n",
    "plt.errorbar(grad_times[0], length, uncertainty,linestyle=':',color='tab:blue', label ='normalized mean length')\n",
    "plt.plot(grad_times[0], y_fit_grad,color='tab:red', label = 'fit')\n",
    "plt.legend()\n",
    "plt.title('Time vs Disatnce')\n",
    "plt.xlabel('time[s]')\n",
    "plt.ylabel('distnace[cm]')\n",
    "plt.show()"
   ]
  },
  {
   "cell_type": "code",
   "execution_count": 19,
   "metadata": {},
   "outputs": [
    {
     "name": "stdout",
     "output_type": "stream",
     "text": [
      "The acceleration of the ball using scipy optimize is:\n",
      "1.406 [m/s^2]\n",
      "The acceleration of the ball using iminuit is:\n",
      "1.4 +/- 0.5[m/s^2]\n"
     ]
    }
   ],
   "source": [
    "#from distance formula \n",
    "acceleration_grad = 2*fit_parameters[0]\n",
    "acceleration_iminuit = 2*minuit_fit[0]\n",
    "error_acceleration = 2*minuit_fit_errors[0] #a_std = d(acceleration_iminuit)*acc_error\n",
    "print(f'The acceleration of the ball using scipy optimize is:\\n{acceleration_grad:1.4} [m/s^2]')  #get uncertanty\n",
    "print(f'The acceleration of the ball using iminuit is:\\n{acceleration_iminuit:1.2} +/- {error_acceleration:1.1}[m/s^2]')"
   ]
  },
  {
   "cell_type": "markdown",
   "metadata": {},
   "source": [
    "## 3. Calcuate g"
   ]
  },
  {
   "cell_type": "markdown",
   "metadata": {},
   "source": [
    "### Experimental data"
   ]
  },
  {
   "cell_type": "code",
   "execution_count": 20,
   "metadata": {},
   "outputs": [
    {
     "name": "stdout",
     "output_type": "stream",
     "text": [
      "mean ball diameter:\n",
      "0.013 +/- 7.07e-05 [m]\n",
      "rail mean:\n",
      "0.006 =/- 7.07e-05 [m]\n",
      "\n",
      "angles for orientation 1:\n",
      "[13.1 13.2 13.  13.1]\n",
      "[13.5 13.5 13.7 13.6]\n",
      "with mean:\n",
      "[[13.3  13.35 13.35 13.35]]\n",
      "\n",
      "angles for orientation 2:\n",
      "[14.1 14.1 14.2 14.2]\n",
      "[14.2 14.1 14.2 14.2]\n",
      "with mean:\n",
      "[[14.15 14.1  14.2  14.2 ]]\n",
      "\n",
      "total mean angle:\n",
      "14.1625\n",
      "sine angle: 0.24467283288538885\n"
     ]
    }
   ],
   "source": [
    "# data from dat spreadsheet\n",
    "ball_diameter = np.array([1.2700,1.2700,1.2600,1.2800])*1e-2 # metre [m]\n",
    "uncertanty_ball_diameter = 0.01*1e-2  #metre[m]\n",
    "ball_diameter_mean = np.mean(ball_diameter)\n",
    "print(f'mean ball diameter:\\n{ball_diameter_mean:.3f} +/- {np.std(ball_diameter):1.3} [m]')\n",
    "\n",
    "\n",
    "rail = np.array([0.62, 0.61, 0.61, 0.6])*1e-2\n",
    "rail_mean = np.mean(rail)\n",
    "print(f'rail mean:\\n{rail_mean:.3f} =/- {np.std(rail):1.3} [m]')\n",
    "\n",
    "\n",
    "# experiemental setup orientation 1\n",
    "print()\n",
    "angle1 = 90-np.array([76.9000 , 76.8000 , 77.0000 , 76.9000])\n",
    "angle2 = np.array([103.5000, 103.5000, 103.7000, 103.6000])-90\n",
    "mean_orientation1 = np.mean(np.array([[angle1],[angle2]]),0)\n",
    "print(f'angles for orientation 1:\\n{angle1}\\n{angle2}')\n",
    "print(f'with mean:\\n{mean_orientation1}')\n",
    "# experiemental setup orientation 2\n",
    "print()\n",
    "angle3 = np.array([104.1000, 104.1000, 104.2000, 104.2000])-90\n",
    "angle4 = 90-np.array([75.8000 , 75.9000 , 75.8000 , 75.8000])\n",
    "mean_orientation2 = np.mean(np.array([[angle3],[angle4]]),0)\n",
    "print(f'angles for orientation 2:\\n{angle3}\\n{angle4}')\n",
    "print(f'with mean:\\n{mean_orientation2}')\n",
    "print()\n",
    "print(f'total mean angle:\\n{np.mean(np.array([[mean_orientation2],[mean_orientation2]]))}')\n",
    "angle = np.mean(np.array([[mean_orientation2],[mean_orientation2]]))\n",
    "\n",
    "angle_uncertainty = np.array([1, 0.1, 0.05, 0.1])\n",
    "mean_angle_uncert = np.mean(angle_uncertainty)\n",
    "\n",
    "from math import sin, pi, atan\n",
    "sin_angle = sin(angle*pi/180) #* 180/pi there was a big error from here, angle maybe a huge source of uncertanty \n",
    "print(f'sine angle: {sin_angle}')\n"
   ]
  },
  {
   "cell_type": "code",
   "execution_count": 21,
   "metadata": {},
   "outputs": [],
   "source": [
    "#calculate gravity using fg\n",
    "gravity = fg(acc_fit*2,(angle*pi/180),ball_diameter_mean,rail_mean)\n",
    "           "
   ]
  },
  {
   "cell_type": "code",
   "execution_count": 22,
   "metadata": {},
   "outputs": [],
   "source": [
    "# NIST true gravity [ m/s^(-2) ]\n",
    "gravity_true = 9.80665"
   ]
  },
  {
   "cell_type": "code",
   "execution_count": 23,
   "metadata": {},
   "outputs": [
    {
     "name": "stdout",
     "output_type": "stream",
     "text": [
      "gravity from data:8.185\n",
      "procentage difference from true gravity:16.54%\n"
     ]
    }
   ],
   "source": [
    "print(f'gravity from data:{gravity:1.4}')  # get uncertanty \n",
    "print(f'procentage difference from true gravity:{round(abs((gravity-gravity_true)/gravity_true)*100,2)}%')"
   ]
  },
  {
   "cell_type": "markdown",
   "metadata": {},
   "source": [
    "## Test different accelerations"
   ]
  },
  {
   "cell_type": "code",
   "execution_count": 24,
   "metadata": {},
   "outputs": [
    {
     "data": {
      "text/plain": [
       "[5.142690970292398,\n",
       " 5.8187607947423166,\n",
       " 6.494830619192236,\n",
       " 7.170900443642154,\n",
       " 7.846970268092072,\n",
       " 8.523040092541992,\n",
       " 9.19910991699191,\n",
       " 9.875179741441828,\n",
       " 10.551249565891746,\n",
       " 11.227319390341666]"
      ]
     },
     "execution_count": 24,
     "metadata": {},
     "output_type": "execute_result"
    }
   ],
   "source": [
    "inicial = acceleration_iminuit - error_acceleration\n",
    "final = acceleration_iminuit + error_acceleration\n",
    "acc = np.linspace(inicial,final,10)\n",
    "grav =[]\n",
    "for a in acc:\n",
    "    grav.append(fg(a,(angle*pi/180),ball_diameter_mean,rail_mean))\n",
    "grav    "
   ]
  },
  {
   "cell_type": "code",
   "execution_count": 25,
   "metadata": {},
   "outputs": [
    {
     "data": {
      "text/plain": [
       "1.6961869181851363"
      ]
     },
     "execution_count": 25,
     "metadata": {},
     "output_type": "execute_result"
    }
   ],
   "source": [
    "acc[7]"
   ]
  },
  {
   "cell_type": "code",
   "execution_count": null,
   "metadata": {},
   "outputs": [],
   "source": []
  }
 ],
 "metadata": {
  "kernelspec": {
   "display_name": "Python 3 (ipykernel)",
   "language": "python",
   "name": "python3"
  },
  "language_info": {
   "codemirror_mode": {
    "name": "ipython",
    "version": 3
   },
   "file_extension": ".py",
   "mimetype": "text/x-python",
   "name": "python",
   "nbconvert_exporter": "python",
   "pygments_lexer": "ipython3",
   "version": "3.9.7"
  }
 },
 "nbformat": 4,
 "nbformat_minor": 2
}
