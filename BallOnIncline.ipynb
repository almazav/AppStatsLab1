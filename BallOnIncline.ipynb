{
 "cells": [
  {
   "cell_type": "markdown",
   "metadata": {},
   "source": [
    "# Analyze Ball on Incline data\n"
   ]
  },
  {
   "cell_type": "code",
   "execution_count": 1,
   "metadata": {},
   "outputs": [],
   "source": [
    "# Imports\n",
    "import os, sys\n",
    "import numpy as np\n",
    "import matplotlib.pyplot as plt\n",
    "font = {'weight' : 'normal',\n",
    "        'size'   : 15}\n",
    "\n",
    "import matplotlib\n",
    "matplotlib.rc('font', **font)\n",
    "from scipy.signal import find_peaks\n",
    "import scipy.optimize\n",
    "from scipy import stats\n",
    "from sympy import * \n",
    "from IPython.core.display import Latex\n",
    "from iminuit import Minuit\n",
    "sys.path.append('External_Functions')\n",
    "from ExternalFunctions import Chi2Regression"
   ]
  },
  {
   "cell_type": "markdown",
   "metadata": {},
   "source": [
    "## 1.Theory"
   ]
  },
  {
   "cell_type": "code",
   "execution_count": 2,
   "metadata": {},
   "outputs": [
    {
     "name": "stdout",
     "output_type": "stream",
     "text": [
      "g is given by the equation:\n"
     ]
    },
    {
     "data": {
      "text/latex": [
       "$$g = \\frac{a \\left(\\frac{2 D_{ball}^{2}}{5 D_{ball}^{2} - 5 d_{rail}^{2}} + 1\\right)}{\\sin{\\left(\\theta \\right)}}$$"
      ],
      "text/plain": [
       "<IPython.core.display.Latex object>"
      ]
     },
     "metadata": {},
     "output_type": "display_data"
    },
    {
     "name": "stdout",
     "output_type": "stream",
     "text": [
      "The uncertanty on g is given by: \n"
     ]
    },
    {
     "data": {
      "text/latex": [
       "$$dg = \\sqrt{\\frac{400 D_{ball}^{4} a^{2} d_{rail}^{2} \\sigma_{drail}^{2}}{\\left(5 D_{ball}^{2} - 5 d_{rail}^{2}\\right)^{4} \\sin^{2}{\\left(\\theta \\right)}} + \\frac{a^{2} \\sigma_{Dball}^{2} \\left(- \\frac{20 D_{ball}^{3}}{\\left(5 D_{ball}^{2} - 5 d_{rail}^{2}\\right)^{2}} + \\frac{4 D_{ball}}{5 D_{ball}^{2} - 5 d_{rail}^{2}}\\right)^{2}}{\\sin^{2}{\\left(\\theta \\right)}} + \\frac{a^{2} \\sigma_{\\theta}^{2} \\left(\\frac{2 D_{ball}^{2}}{5 D_{ball}^{2} - 5 d_{rail}^{2}} + 1\\right)^{2} \\cos^{2}{\\left(\\theta \\right)}}{\\sin^{4}{\\left(\\theta \\right)}} + \\frac{\\sigma_{a}^{2} \\left(\\frac{2 D_{ball}^{2}}{5 D_{ball}^{2} - 5 d_{rail}^{2}} + 1\\right)^{2}}{\\sin^{2}{\\left(\\theta \\right)}}}$$"
      ],
      "text/plain": [
       "<IPython.core.display.Latex object>"
      ]
     },
     "metadata": {},
     "output_type": "display_data"
    }
   ],
   "source": [
    "def lprint(*args,**kwargs):\n",
    "    \"\"\"Pretty print arguments as LaTeX using IPython display system \n",
    "    \n",
    "    Parameters\n",
    "    ----------\n",
    "    args : tuple \n",
    "        What to print (in LaTeX math mode)\n",
    "    kwargs : dict \n",
    "        optional keywords to pass to `display` \n",
    "    \"\"\"\n",
    "    display(Latex('$$'+' '.join(args)+'$$'),**kwargs)\n",
    "    \n",
    "# Define variables g and dg:\n",
    "D_ball,d_rail,theta, Delta_theta, a, g = symbols(\"D_ball, d_rail, theta,Delta_theta,a,g\")\n",
    "dg,da,dtheta, dD_ball,dd_rail= symbols(\"sigma_g, sigma_a,sigma_theta, sigma_Dball, sigma_drail \")\n",
    "\n",
    "#define g and dg\n",
    "g = (a/sin(theta))*(1+(2*D_ball**2)/(5*(D_ball**2-d_rail**2)))\n",
    "dg = sqrt((g.diff(a) * da)**2 + (g.diff(theta) * dtheta)**2+(g.diff(D_ball) * dD_ball)**2 + (g.diff(d_rail) * dd_rail)**2)\n",
    "\n",
    "#create functions for g\n",
    "fg =lambdify((a,theta,D_ball,d_rail),g)\n",
    "fdg =lambdify((a,da,theta,dtheta,D_ball,dD_ball,d_rail,dd_rail),dg)\n",
    "#print using sympy\n",
    "print('g is given by the equation:')\n",
    "lprint(latex(Eq(symbols('g'),g)))\n",
    "print('The uncertanty on g is given by: ')\n",
    "lprint(latex(Eq(symbols('dg'),dg)))\n",
    "\n",
    "\n"
   ]
  },
  {
   "cell_type": "markdown",
   "metadata": {},
   "source": [
    "The paramteres $D_{ball}$, $d_{rail}$, $\\theta$ were meaured, the acceleration $a$ is calculated using the distance equation."
   ]
  },
  {
   "cell_type": "code",
   "execution_count": 3,
   "metadata": {},
   "outputs": [
    {
     "name": "stdout",
     "output_type": "stream",
     "text": [
      "The distance equation is given by:\n"
     ]
    },
    {
     "data": {
      "text/latex": [
       "$$S = a t^{2} + b t + c$$"
      ],
      "text/plain": [
       "<IPython.core.display.Latex object>"
      ]
     },
     "metadata": {},
     "output_type": "display_data"
    }
   ],
   "source": [
    "# Define variables distance and d_distance:\n",
    "S,a,t, b, c = symbols(\"S, a, t,b,c\")\n",
    "\n",
    "#define distance and d_distance\n",
    "S = a * t**2 + b * t + c\n",
    "\n",
    "#create functions for distance\n",
    "fd =lambdify((a,t,b,c),S)\n",
    "print('The distance equation is given by:')\n",
    "#print using sympy\n",
    "lprint(latex(Eq(symbols('S'),S)))\n"
   ]
  },
  {
   "cell_type": "markdown",
   "metadata": {},
   "source": [
    "## 2.Calculating acceleration $a$\n",
    "Acceleration is calculated using voltage and time measurments obtained in the lab."
   ]
  },
  {
   "cell_type": "markdown",
   "metadata": {},
   "source": [
    "### Functions"
   ]
  },
  {
   "cell_type": "code",
   "execution_count": 4,
   "metadata": {},
   "outputs": [],
   "source": [
    "def read_csv(filename):\n",
    "    \"\"\"Read CSV from Waveforms\"\"\"\n",
    "    dat = np.genfromtxt(filename, delimiter=',', skip_header=0, names=True)\n",
    "    time = dat['Time_s'][10:]\n",
    "    voltage = dat['Channel_1_V'][10:]\n",
    "    return time, voltage\n",
    "\n",
    "### Find_peaks\n",
    "def gradient_peaks(voltage,time):\n",
    "    \"\"\"Takes voltage and times (measured) \n",
    "    returnsvoltage gradient, peak of gradient indices, peak gradient time, condition\"\"\"\n",
    "    dV = np.gradient(voltage)\n",
    "    condition = dV>0\n",
    "    peak_index = find_peaks(dV,.1)[0]\n",
    "    times_grad = time[peak_index]\n",
    "    return dV, peak_index, times_grad,condition\n",
    "\n"
   ]
  },
  {
   "cell_type": "markdown",
   "metadata": {},
   "source": [
    "## Reading the data\n",
    "\n",
    "The function \"read_csv(filename)\" takes in a filename and returns numpy arrays with time and voltage."
   ]
  },
  {
   "cell_type": "code",
   "execution_count": 5,
   "metadata": {},
   "outputs": [],
   "source": [
    "# Read in the data (1 file test)\n",
    "file_balls = 'ball_time measurments/morten1.csv'\n",
    "file_noise = 'noise/noise1.csv'\n",
    "time, balls_voltage = read_csv(file_balls)\n",
    "noise_time,noise_voltage = read_csv(file_noise)\n",
    "voltage = balls_voltage - np.mean(noise_voltage)"
   ]
  },
  {
   "cell_type": "code",
   "execution_count": 6,
   "metadata": {},
   "outputs": [
    {
     "name": "stdout",
     "output_type": "stream",
     "text": [
      "Gradient peaks times: [0.471 0.664 0.809 0.93  1.039],\n",
      "\n",
      "with a voltage:[1.332 1.759 1.474 1.601 1.381],\n",
      "\n",
      "and indices:[4847 5808 6533 7140 7687]\n"
     ]
    }
   ],
   "source": [
    "### find peak gradient \n",
    "dV, peak_index, times_grad,condition = gradient_peaks(voltage,time)\n",
    "print(f\"\"\"Gradient peaks times: {np.round(times_grad,3)},\n",
    "\\nwith a voltage:{np.round(voltage[peak_index],3)},\n",
    "\\nand indices:{peak_index}\"\"\")"
   ]
  },
  {
   "cell_type": "code",
   "execution_count": 7,
   "metadata": {
    "code_folding": [],
    "scrolled": false
   },
   "outputs": [
    {
     "data": {
      "image/png": "[encoded data removed]",
      "text/plain": [
       "<Figure size 1008x720 with 2 Axes>"
      ]
     },
     "metadata": {
      "needs_background": "light"
     },
     "output_type": "display_data"
    }
   ],
   "source": [
    "### Original data plot\n",
    "fig, ax = plt.subplots(2,1, figsize=(14, 10))\n",
    "ax[0].plot(time, voltage, 'k.', label='Measurements')\n",
    "#ax.set_xlim(chi2_minpos-2*min_fit, chi2_minpos+2*max_fit)\n",
    "ax[0].set_title(\"Data from Ball-on-Incline experiment\")\n",
    "ax[0].set_ylabel(\"Voltage (V)\")\n",
    "ax[0].set_xlim(0.3,1.2)\n",
    "\n",
    "ax[1].plot(time,voltage,label='data')\n",
    "ax[1].plot(time[condition],dV[condition], label='gradient')\n",
    "ax[1].scatter(times_grad,voltage[peak_index],label='peaks')\n",
    "ax[1].set_ylabel(\"Voltage (V)\")\n",
    "ax[1].set_xlabel(\"Time (s)\")\n",
    "ax[1].set_xlim(0.3,1.2)\n",
    "ax[1].legend()\n",
    "plt.savefig('Ball_DataAndPeaks')\n",
    "plt.show()"
   ]
  },
  {
   "cell_type": "code",
   "execution_count": 8,
   "metadata": {},
   "outputs": [
    {
     "name": "stdout",
     "output_type": "stream",
     "text": [
      "The noise is 0.835  +/-  0.002\n"
     ]
    }
   ],
   "source": [
    "#get the mean of the noise, assuiming noise is gaussian\n",
    "noise_list =[]\n",
    "for i in range(1,7):\n",
    "    file_noise = f'noise/noise{i}.csv'\n",
    "    time, balls_voltage = read_csv(file_balls)\n",
    "    noise_time,noise_voltage = read_csv(file_noise)\n",
    "    noise_list.append(noise_voltage)\n",
    "noise = np.concatenate(noise_list)\n",
    "noise_mean = np.mean(noise)\n",
    "noise_std = np.std(noise)\n",
    "print(f'The noise is {noise_mean:1.3}  +/-  {noise_std:1.1}')"
   ]
  },
  {
   "cell_type": "code",
   "execution_count": 9,
   "metadata": {},
   "outputs": [],
   "source": [
    "#get the times of all the balls using peak gradients\n",
    "ball_times_grad = np.zeros((30,5))\n",
    "\n",
    "#loop throug files and add the times in each row of ball_times_grad\n",
    "for i in range(1,31):\n",
    "    file_balls = f'ball_time measurments/morten{i}.csv'\n",
    "    time, balls_voltage = read_csv(file_balls)\n",
    "    voltage = balls_voltage - noise_mean\n",
    "    ### Find_peaks\n",
    "    dV, peak_index, times_grad,condition = gradient_peaks(balls_voltage,time)\n",
    "    ball_times_grad[i-1] = times_grad\n",
    "#ball_times_grad"
   ]
  },
  {
   "cell_type": "code",
   "execution_count": 10,
   "metadata": {},
   "outputs": [],
   "source": [
    "#create a function for the uncertanty on the mean\n",
    "def uncertanty_mean(uncertainties):\n",
    "    weights_sum = 1/np.sum(np.square(uncertainties))\n",
    "    return np.sqrt(1/weights_sum)\n",
    "\n",
    "\n",
    "#chi2 on measurments \n",
    "def chi2_constant(c):\n",
    "    y_fit = np.ones_like(y) * c\n",
    "    chi2 = np.sum(((y - y_fit) / sy)**2)\n",
    "    return chi2\n",
    "def constant_fit(y,sy):\n",
    "    chi2_constant.errordef = Minuit.LEAST_SQUARES \n",
    "    minuit_simple = Minuit(chi2_constant, c=0)\n",
    "    minuit_simple.migrad()\n",
    "\n",
    "    c = minuit_simple.values[:][0]\n",
    "    ec = minuit_simple.errors[:][0]\n",
    "    res = y-chi2_constant(c)\n",
    "\n",
    "    chi2 = minuit_simple.fval\n",
    "    ndof =  len(y) - minuit_simple.nfit\n",
    "    prob = stats.chi2.sf(chi2, ndof)\n",
    "\n",
    "    return c, ec, res, chi2, ndof, prob\n"
   ]
  },
  {
   "cell_type": "code",
   "execution_count": 11,
   "metadata": {},
   "outputs": [
    {
     "name": "stdout",
     "output_type": "stream",
     "text": [
      "Normalized times in seconds :\n",
      "[0.    0.192 0.336 0.458 0.567]\n",
      "Errors on times in seconds:\n",
      "[0.    0.001 0.001 0.001 0.002]\n",
      "The time uncertanty in seconds is:\n",
      "0.003\n"
     ]
    }
   ],
   "source": [
    "#get the first time at time zero.does this make sense? \n",
    "grad_times = np.zeros(((30,5)))\n",
    "for i in range(5):\n",
    "    grad_times[:,i] = ball_times_grad[:,i] - (ball_times_grad[:,0] )\n",
    "\n",
    "times = np.mean(grad_times,axis =0)\n",
    "error_times = np.std(grad_times,axis =0)\n",
    "\n",
    "time_uncertanty = uncertanty_mean(error_times)\n",
    "print(f'Normalized times in seconds :\\n{np.round(times,3)}')\n",
    "\n",
    "print(f'Errors on times in seconds:\\n{np.round(error_times,3)}')\n",
    "print(f'The time uncertanty in seconds is:\\n{time_uncertanty:1.1}')"
   ]
  },
  {
   "cell_type": "code",
   "execution_count": 12,
   "metadata": {},
   "outputs": [
    {
     "name": "stdout",
     "output_type": "stream",
     "text": [
      "length 1:\n",
      "[26.  41.3 56.4 71.2 86.8] +/- 0.2 [cm]\n",
      "length 2:\n",
      "[25.1  41.2  55.15 72.5  85.3 ] +/- 0.02 [cm]\n",
      "length 3:\n",
      "[23.25 38.4  53.45 69.4  83.65] +/- 0.025 [cm]\n",
      "length 4:\n",
      "[23.275 38.475 53.475 68.425 83.7  ] +/- 0.005 [cm]\n"
     ]
    }
   ],
   "source": [
    "#get all sensor positions\n",
    "def read_csv_lenghts(filename):\n",
    "    \"\"\"Read CSV from Waveforms\"\"\"\n",
    "    dat = np.genfromtxt(filename, delimiter=',', skip_header=0, names=True)\n",
    "    lenghts = np.zeros((4,5))\n",
    "    lenghts[:,0] = dat['Length1']\n",
    "    lenghts[:,1] = dat['Length2']\n",
    "    lenghts[:,2] = dat['Length3']\n",
    "    lenghts[:,3] = dat['Length4']\n",
    "    lenghts[:,4] = dat['Length5']\n",
    "    Uncertanty = dat['Uncertainty']\n",
    "    return lenghts, Uncertanty\n",
    "#lenghts, Uncertanty = read_csv_lenghts('sensors_positions.csv')\n",
    "lengths, uncertainties = read_csv_lenghts('sensors_positions.csv')\n",
    "for i in range(len(uncertainties)):\n",
    "    print(f'length {i+1}:\\n{lengths[i]} +/- {uncertainties[i]} [cm]')"
   ]
  },
  {
   "cell_type": "code",
   "execution_count": 13,
   "metadata": {},
   "outputs": [
    {
     "name": "stdout",
     "output_type": "stream",
     "text": [
      "mean lengths in meters:\n",
      "[0.2337904 0.3862827 0.5357065 0.686928  0.8379059]    [m]\n",
      "mean normalized lengths in meters:\n",
      "[0.    0.152 0.302 0.453 0.604]    [m]\n",
      "uncertanty on the lenght:\n",
      "0.002    [m]\n"
     ]
    }
   ],
   "source": [
    "lengths_mean= np.average(lengths,axis =0, weights=1/(np.square(uncertainties)))\n",
    "#weights_sum = 1/np.sum(np.square(uncertainties))\n",
    "len_uncertainty = uncertanty_mean(uncertainties)*1e-2\n",
    "length =  (lengths_mean - lengths_mean[0])*1e-2\n",
    "print(f'mean lengths in meters:\\n{np.round(lengths_mean,5)*1e-2}    [m]')\n",
    "print(f'mean normalized lengths in meters:\\n{np.round(length,3)}    [m]')\n",
    "print(f'uncertanty on the lenght:\\n{np.round(len_uncertainty,3)}    [m]')"
   ]
  },
  {
   "cell_type": "code",
   "execution_count": 14,
   "metadata": {},
   "outputs": [],
   "source": [
    "#I couldnt get S lambdify function to work \n",
    "def distance(t,acc,b,c):\n",
    "    return acc * t**2 + b*t + c"
   ]
  },
  {
   "cell_type": "code",
   "execution_count": 15,
   "metadata": {},
   "outputs": [
    {
     "name": "stdout",
     "output_type": "stream",
     "text": [
      "a*t^2+b*t+c:[ 7.22765445e-01  6.56885901e-01 -4.59320655e-05]\n",
      "[[ 1.83532607e-04 -1.03287643e-04  7.08619804e-06]\n",
      " [-1.03287643e-04  6.34157610e-05 -5.62997282e-06]\n",
      " [ 7.08619804e-06 -5.62997282e-06  9.93515162e-07]]\n"
     ]
    }
   ],
   "source": [
    "#fit the funtion using scipy\n",
    "fit_parameters,pvoc = scipy.optimize.curve_fit(distance, times,length)\n",
    "print(f'a*t^2+b*t+c:{fit_parameters}')\n",
    "print(pvoc)"
   ]
  },
  {
   "cell_type": "code",
   "execution_count": 16,
   "metadata": {},
   "outputs": [
    {
     "name": "stdout",
     "output_type": "stream",
     "text": [
      "a*t^2+b*t+c:[ 7.22765450e-01  6.56885898e-01 -4.59314853e-05]\n",
      "with respectuve erorros [0.00846987 0.00497871 0.00062318]\n"
     ]
    },
    {
     "data": {
      "text/html": [
       "<table>\n",
       "    <tr>\n",
       "        <th colspan=\"5\" style=\"text-align:center\" title=\"Minimizer\"> Migrad </th>\n",
       "    </tr>\n",
       "    <tr>\n",
       "        <td colspan=\"2\" style=\"text-align:left\" title=\"Minimum value of function\"> FCN = 0.5117 </td>\n",
       "        <td colspan=\"3\" style=\"text-align:center\" title=\"No. of function evaluations in last call and total number\"> Nfcn = 84 </td>\n",
       "    </tr>\n",
       "    <tr>\n",
       "        <td colspan=\"2\" style=\"text-align:left\" title=\"Estimated distance to minimum and goal\"> EDM = 2.21e-17 (Goal: 2e-05) </td>\n",
       "        <td colspan=\"3\" style=\"text-align:center\" title=\"No. of gradient evaluations in last call and total number\">  </td>\n",
       "    </tr>\n",
       "    <tr>\n",
       "        <td colspan=\"2\" style=\"text-align:center;background-color:#92CCA6;color:black\"> Valid Minimum </td>\n",
       "        <td colspan=\"3\" style=\"text-align:center;background-color:#92CCA6;color:black\"> No Parameters at limit </td>\n",
       "    </tr>\n",
       "    <tr>\n",
       "        <td colspan=\"2\" style=\"text-align:center;background-color:#92CCA6;color:black\"> Below EDM threshold (goal x 10) </td>\n",
       "        <td colspan=\"3\" style=\"text-align:center;background-color:#92CCA6;color:black\"> Below call limit </td>\n",
       "    </tr>\n",
       "    <tr>\n",
       "        <td style=\"text-align:center;background-color:#92CCA6;color:black\"> Covariance </td>\n",
       "        <td style=\"text-align:center;background-color:#92CCA6;color:black\"> Hesse ok </td>\n",
       "        <td style=\"text-align:center;background-color:#92CCA6;color:black\" title=\"Is covariance matrix accurate?\"> Accurate </td>\n",
       "        <td style=\"text-align:center;background-color:#92CCA6;color:black\" title=\"Is covariance matrix positive definite?\"> Pos. def. </td>\n",
       "        <td style=\"text-align:center;background-color:#92CCA6;color:black\" title=\"Was positive definiteness enforced by Minuit?\"> Not forced </td>\n",
       "    </tr>\n",
       "</table><table>\n",
       "    <tr>\n",
       "        <td></td>\n",
       "        <th title=\"Variable name\"> Name </th>\n",
       "        <th title=\"Value of parameter\"> Value </th>\n",
       "        <th title=\"Hesse error\"> Hesse Error </th>\n",
       "        <th title=\"Minos lower error\"> Minos Error- </th>\n",
       "        <th title=\"Minos upper error\"> Minos Error+ </th>\n",
       "        <th title=\"Lower limit of the parameter\"> Limit- </th>\n",
       "        <th title=\"Upper limit of the parameter\"> Limit+ </th>\n",
       "        <th title=\"Is the parameter fixed in the fit\"> Fixed </th>\n",
       "    </tr>\n",
       "    <tr>\n",
       "        <th> 0 </th>\n",
       "        <td> acc </td>\n",
       "        <td> 0.723 </td>\n",
       "        <td> 0.008 </td>\n",
       "        <td>  </td>\n",
       "        <td>  </td>\n",
       "        <td>  </td>\n",
       "        <td>  </td>\n",
       "        <td>  </td>\n",
       "    </tr>\n",
       "    <tr>\n",
       "        <th> 1 </th>\n",
       "        <td> b </td>\n",
       "        <td> 0.657 </td>\n",
       "        <td> 0.005 </td>\n",
       "        <td>  </td>\n",
       "        <td>  </td>\n",
       "        <td>  </td>\n",
       "        <td>  </td>\n",
       "        <td>  </td>\n",
       "    </tr>\n",
       "    <tr>\n",
       "        <th> 2 </th>\n",
       "        <td> c </td>\n",
       "        <td> -0 </td>\n",
       "        <td> 0.6e-3 </td>\n",
       "        <td>  </td>\n",
       "        <td>  </td>\n",
       "        <td>  </td>\n",
       "        <td>  </td>\n",
       "        <td>  </td>\n",
       "    </tr>\n",
       "</table><table>\n",
       "    <tr>\n",
       "        <td></td>\n",
       "        <th> acc </th>\n",
       "        <th> b </th>\n",
       "        <th> c </th>\n",
       "    </tr>\n",
       "    <tr>\n",
       "        <th> acc </th>\n",
       "        <td> 7.17e-05 </td>\n",
       "        <td style=\"background-color:rgb(126,126,250);color:black\"> -4.04e-05 <strong>(-0.957)</strong> </td>\n",
       "        <td style=\"background-color:rgb(250,171,171);color:black\"> 2.77e-06 <strong>(0.525)</strong> </td>\n",
       "    </tr>\n",
       "    <tr>\n",
       "        <th> b </th>\n",
       "        <td style=\"background-color:rgb(126,126,250);color:black\"> -4.04e-05 <strong>(-0.957)</strong> </td>\n",
       "        <td> 2.48e-05 </td>\n",
       "        <td style=\"background-color:rgb(158,158,250);color:black\"> -2.2e-06 <strong>(-0.709)</strong> </td>\n",
       "    </tr>\n",
       "    <tr>\n",
       "        <th> c </th>\n",
       "        <td style=\"background-color:rgb(250,171,171);color:black\"> 2.77e-06 <strong>(0.525)</strong> </td>\n",
       "        <td style=\"background-color:rgb(158,158,250);color:black\"> -2.2e-06 <strong>(-0.709)</strong> </td>\n",
       "        <td> 3.88e-07 </td>\n",
       "    </tr>\n",
       "</table>"
      ],
      "text/plain": [
       "┌─────────────────────────────────────────────────────────────────────────┐\n",
       "│                                Migrad                                   │\n",
       "├──────────────────────────────────┬──────────────────────────────────────┤\n",
       "│ FCN = 0.5117                     │              Nfcn = 84               │\n",
       "│ EDM = 2.21e-17 (Goal: 2e-05)     │                                      │\n",
       "├──────────────────────────────────┼──────────────────────────────────────┤\n",
       "│          Valid Minimum           │        No Parameters at limit        │\n",
       "├──────────────────────────────────┼──────────────────────────────────────┤\n",
       "│ Below EDM threshold (goal x 10)  │           Below call limit           │\n",
       "├───────────────┬──────────────────┼───────────┬─────────────┬────────────┤\n",
       "│  Covariance   │     Hesse ok     │ Accurate  │  Pos. def.  │ Not forced │\n",
       "└───────────────┴──────────────────┴───────────┴─────────────┴────────────┘\n",
       "┌───┬──────┬───────────┬───────────┬────────────┬────────────┬─────────┬─────────┬───────┐\n",
       "│   │ Name │   Value   │ Hesse Err │ Minos Err- │ Minos Err+ │ Limit-  │ Limit+  │ Fixed │\n",
       "├───┼──────┼───────────┼───────────┼────────────┼────────────┼─────────┼─────────┼───────┤\n",
       "│ 0 │ acc  │   0.723   │   0.008   │            │            │         │         │       │\n",
       "│ 1 │ b    │   0.657   │   0.005   │            │            │         │         │       │\n",
       "│ 2 │ c    │    -0     │  0.6e-3   │            │            │         │         │       │\n",
       "└───┴──────┴───────────┴───────────┴────────────┴────────────┴─────────┴─────────┴───────┘\n",
       "┌─────┬───────────────────────────────┐\n",
       "│     │       acc         b         c │\n",
       "├─────┼───────────────────────────────┤\n",
       "│ acc │  7.17e-05 -4.04e-05  2.77e-06 │\n",
       "│   b │ -4.04e-05  2.48e-05  -2.2e-06 │\n",
       "│   c │  2.77e-06  -2.2e-06  3.88e-07 │\n",
       "└─────┴───────────────────────────────┘"
      ]
     },
     "execution_count": 16,
     "metadata": {},
     "output_type": "execute_result"
    }
   ],
   "source": [
    "#fit function using iminuit\n",
    "Minuit.print_level = 1\n",
    "#takes the function, data points, the result distance? the error on the distance?\n",
    "chi2_object = Chi2Regression(distance,times,length,len_uncertainty)\n",
    "chi2_object.errordef = 0.1 #definition\n",
    "\n",
    "#Here we let Minuit know, what to minimise, how, and with what starting parameters, shite example? \n",
    "minuit = Minuit(chi2_object,acc =0,b=0,c=0)\n",
    "#perform the fit\n",
    "minuit.migrad()\n",
    "#extractfit\n",
    "acc_fit = minuit.values['acc']\n",
    "error_acc = minuit.errors['acc']\n",
    "b_fit = minuit.values['b']\n",
    "error_b = minuit.errors['b']\n",
    "c_fit = minuit.values['c']\n",
    "error_c = minuit.errors['c']\n",
    "\n",
    "# Get the minimal value obtained for the quantity to be minimised (here the Chi2)\n",
    "chi2_fit = minuit.fval\n",
    "ndof = len(times) - minuit.nfit\n",
    "prob_fit = stats.chi2.sf(chi2_fit,ndof)\n",
    "\n",
    "#array with accelearation, b and c paramteres\n",
    "minuit_fit = np.array([acc_fit,b_fit,c_fit])\n",
    "minuit_fit_errors = np.array([error_acc,error_b,error_c])\n",
    "print(f'a*t^2+b*t+c:{minuit_fit}\\nwith respectuve erorros {minuit_fit_errors}')\n",
    "minuit.migrad()"
   ]
  },
  {
   "cell_type": "code",
   "execution_count": 17,
   "metadata": {},
   "outputs": [
    {
     "name": "stdout",
     "output_type": "stream",
     "text": [
      "0.5116600767308251 2 0.7742735544086035\n"
     ]
    }
   ],
   "source": [
    "print(chi2_fit, ndof,prob_fit)"
   ]
  },
  {
   "cell_type": "code",
   "execution_count": 18,
   "metadata": {},
   "outputs": [
    {
     "data": {
      "image/png": "[encoded data removed]",
      "text/plain": [
       "<Figure size 720x504 with 1 Axes>"
      ]
     },
     "metadata": {
      "needs_background": "light"
     },
     "output_type": "display_data"
    }
   ],
   "source": [
    "## plot scypi optimize\n",
    "y_fit_grad = distance(times,*fit_parameters)\n",
    "plt.figure(figsize=(10,7))\n",
    "plt.errorbar(grad_times[0], length, len_uncertainty,linestyle=':',color='tab:blue', label ='normalized mean length')\n",
    "plt.plot(grad_times[0], y_fit_grad,color='tab:red', label = f'Acceleration Fit: p(Chi2 = {chi2_fit:.1f},Ndof={ndof:d}) = {prob_fit:.1}')\n",
    "plt.legend()\n",
    "plt.title('Time vs Disatnce')\n",
    "plt.xlabel('Time[s]')\n",
    "plt.ylabel('Distnace[m]')\n",
    "plt.savefig('timeVdist')\n",
    "plt.show()"
   ]
  },
  {
   "cell_type": "code",
   "execution_count": 19,
   "metadata": {},
   "outputs": [
    {
     "name": "stdout",
     "output_type": "stream",
     "text": [
      "The acceleration of the ball using scipy optimize is:\n",
      "1.446 [m/s^2]\n",
      "The acceleration of the ball using iminuit is:\n",
      "1.45 +/- 0.02[m/s^2]\n"
     ]
    }
   ],
   "source": [
    "#from distance formula \n",
    "acceleration_grad = 2*fit_parameters[0]\n",
    "acceleration_iminuit = 2*minuit_fit[0]\n",
    "error_acceleration = 2*minuit_fit_errors[0] #a_std = d(acceleration_iminuit)*acc_error\n",
    "print(f'The acceleration of the ball using scipy optimize is:\\n{acceleration_grad:1.4} [m/s^2]')  #get uncertanty\n",
    "print(f'The acceleration of the ball using iminuit is:\\n{acceleration_iminuit:.2f} +/- {error_acceleration:.2f}[m/s^2]')"
   ]
  },
  {
   "cell_type": "markdown",
   "metadata": {},
   "source": [
    "## 3. Calcuate g"
   ]
  },
  {
   "cell_type": "markdown",
   "metadata": {},
   "source": [
    "### Experimental data"
   ]
  },
  {
   "cell_type": "code",
   "execution_count": 26,
   "metadata": {},
   "outputs": [
    {
     "name": "stdout",
     "output_type": "stream",
     "text": [
      "mean ball diameter:\n",
      "0.0127 +/- 0.0001 [m]\n",
      "P(chi2 = 2.0,N_dof =3) = 0.57\n",
      "\n",
      "mean rail distance:\n",
      "0.0061 +/- 0.0001 [m]\n",
      "P(chi2 = 2.0,N_dof =3) = 0.57\n",
      "\n",
      "\n",
      "The angles orientation 1 are :\n",
      "[13.1 13.2 13.  13.1] deg\n",
      "with a mean of 13.05 deg \n",
      "whith uncertanties\n",
      "0.04 deg \n",
      "\n",
      "The angles orientation 2 are :\n",
      "[13.5 13.5 13.7 13.6] deg\n",
      "with a mean of 13.65 deg \n",
      "whith uncertanties\n",
      "0.04 deg \n",
      "\n",
      "The angle in orientation 1  are :\n",
      "[13.05 13.65] deg\n",
      "with a mean of 13.35 deg \n",
      "whith uncertanties\n",
      "0.03 deg \n",
      "\n",
      "\n",
      "The angles orientation 3 are :\n",
      "[14.1 14.1 14.2 14.2] deg\n",
      "with a mean of 14.18 deg \n",
      "whith uncertanties\n",
      "0.04 deg \n",
      "\n",
      "The angles orientation 4 are :\n",
      "[14.2 14.1 14.2 14.2] deg\n",
      "with a mean of 14.18 deg \n",
      "whith uncertanties\n",
      "0.04 deg \n",
      "\n",
      "The angle in orientation 2  are :\n",
      "[14.18 14.18] deg\n",
      "with a mean of 14.18 deg \n",
      "whith uncertanties\n",
      "0.03 deg \n",
      "\n",
      "The true angles after considering the angle on the table are\n",
      "[13.77 13.77]\n",
      "\n",
      "Total mean angle:\n",
      "13.77+/- 0.02\n",
      "P(chi2 = 0.0), Ndof = 1) = 1.00 \n",
      "sine angle: 0.238\n"
     ]
    }
   ],
   "source": [
    "# data from dat spreadsheet\n",
    "#ball\n",
    "ball_diameter = np.array([1.2700,1.2700,1.2600,1.2800])*1e-2 # metre [m]\n",
    "uncertanty_ball_diameter = np.array([0.01,0.01,0.01,0.01])*1e-2  #metre[m]\n",
    "ball_diameter_mean = np.mean(ball_diameter)\n",
    "\n",
    "y = ball_diameter\n",
    "sy = uncertanty_ball_diameter\n",
    "mean_D_ball, std_D_ball, res_D_ball, chi2_D_ball, ndof_D_ball, prob_D_ball =constant_fit(y, sy)\n",
    "print(f\"\"\"mean ball diameter:\\n{mean_D_ball:.4f} +/- {std_D_ball:.4f} [m]\n",
    "P(chi2 = {chi2_D_ball:.1f},N_dof ={ndof_D_ball:1d}) = {prob_D_ball:.2f}\\n\"\"\")\n",
    "\n",
    "#rail\n",
    "rail = np.array([0.62, 0.61, 0.61, 0.6])*1e-2 #[m]\n",
    "rail_mean = np.mean(rail)\n",
    "uncertanty_rail = np.array([0.01,0.01,0.01,0.01])*1e-2  #metre[m]\n",
    "y = rail\n",
    "sy = uncertanty_rail\n",
    "mean_rail, std_rail, res_rail, chi2_rail, ndof_rail, prob_rail =constant_fit(y, sy)\n",
    "print(f\"\"\"mean rail distance:\\n{mean_rail:.4f} +/- {std_D_ball:.4f} [m]\n",
    "P(chi2 = {chi2_rail:.1f},N_dof ={ndof_rail:1d}) = {prob_rail:.2f}\\n\"\"\")\n",
    "\n",
    "\n",
    "#angle\n",
    "# experiemental setup orientation 1\n",
    "print()\n",
    "angle_uncertainty = np.array([1, 0.1, 0.05, 0.1])\n",
    "sy = angle_uncertainty\n",
    "angle1 = 90-np.array([76.9000 , 76.8000 , 77.0000 , 76.9000])\n",
    "#angle1_mean = np.average(angle1, weights=1/(np.square(angle_uncertainty)))\n",
    "y = angle1\n",
    "mean_angle1, std_angle1, res_angle1, chi2_angle1, ndof_angle1, prob_angle1 =constant_fit(y, sy)\n",
    "\n",
    "print(f\"\"\"The angles orientation 1 are :\\n{np.round(angle1,2)} deg\n",
    "with a mean of {np.round(mean_angle1,2) } deg \n",
    "whith uncertanties\\n{np.round(std_angle1,2)} deg \"\"\")\n",
    "\n",
    "angle2 = np.array([103.5000, 103.5000, 103.7000, 103.6000])-90\n",
    "angle2_mean = np.average(angle2, weights=1/(np.square(angle_uncertainty)))\n",
    "y = angle2\n",
    "mean_angle2, std_angle2, res_angle2, chi2_angle2, ndof_angle2, prob_angle2 =constant_fit(y, sy)\n",
    "\n",
    "print(f\"\"\"\\nThe angles orientation 2 are :\\n{np.round(angle2,2)} deg\n",
    "with a mean of {np.round(mean_angle2,2) } deg \n",
    "whith uncertanties\\n{np.round(std_angle2,2)} deg \"\"\")\n",
    "\n",
    "angles_orinent1 = [mean_angle1,mean_angle2]\n",
    "y = angles_orinent1\n",
    "sy = [std_angle1,std_angle2]\n",
    "mean_angles_orinent1, std_angles_orinent1, res_angles_orinent1, chi2_angles_orinent1, ndof_angles_orinent1,prob_angles_orinent1 =constant_fit(y, sy)\n",
    "\n",
    "print(f\"\"\"\\nThe angle in orientation 1  are :\\n{np.round(angles_orinent1,2)} deg\n",
    "with a mean of {np.round(mean_angles_orinent1,2) } deg \n",
    "whith uncertanties\\n{np.round(std_angles_orinent1,2)} deg \"\"\")\n",
    "\n",
    "\n",
    "# experiemental setup orientation 2\n",
    "\n",
    "print()\n",
    "sy = angle_uncertainty\n",
    "angle3 = np.array([104.1000, 104.1000, 104.2000, 104.2000])-90\n",
    "angle3_mean = np.average(angle3, weights=1/(np.square(angle_uncertainty)))\n",
    "y = angle3\n",
    "mean_angle3, std_angle3, res_angle3, chi2_angle3, ndof_angle3, prob_angle3 =constant_fit(y, sy)\n",
    "\n",
    "print(f\"\"\"\\nThe angles orientation 3 are :\\n{np.round(angle3,2)} deg\n",
    "with a mean of {np.round(mean_angle3,2) } deg \n",
    "whith uncertanties\\n{np.round(std_angle3,2)} deg \"\"\")\n",
    "\n",
    "angle4 = 90-np.array([75.8000 , 75.9000 , 75.8000 , 75.8000])\n",
    "angle4_mean = np.average(angle4, weights=1/(np.square(angle_uncertainty)))\n",
    "y = angle4\n",
    "mean_angle4, std_angle4, res_angle4, chi2_angle4, ndof_angle4, prob_angle4 =constant_fit(y, sy)\n",
    "\n",
    "print(f\"\"\"\\nThe angles orientation 4 are :\\n{np.round(angle4,2)} deg\n",
    "with a mean of {np.round(mean_angle4,2) } deg \n",
    "whith uncertanties\\n{np.round(std_angle4,2)} deg \"\"\")\n",
    "\n",
    "\n",
    "angles_orinent2 = [mean_angle3,mean_angle4]\n",
    "y = angles_orinent2\n",
    "sy = [std_angle3,std_angle4]\n",
    "mean_angles_orinent2, std_angles_orinent2, res_angles_orinent2, chi2_angles_orinent2, ndof_angles_orinent2,prob_angles_orinent2 =constant_fit(y, sy)\n",
    "\n",
    "print(f\"\"\"\\nThe angle in orientation 2  are :\\n{np.round(angles_orinent2,2)} deg\n",
    "with a mean of {np.round(mean_angles_orinent2,2) } deg \n",
    "whith uncertanties\\n{np.round(std_angles_orinent2,2)} deg \"\"\")\n",
    "\n",
    "#calculate delta theta(inclination of the table)\n",
    "\n",
    "delta_theta = (mean_angles_orinent2 - mean_angles_orinent1)/2\n",
    "trueangle_o1 = mean_angles_orinent1+delta_theta\n",
    "trueangle_o2 = mean_angles_orinent2-delta_theta\n",
    "\n",
    "true_angle = np.array([trueangle_o1, trueangle_o2])\n",
    "print(f\"\"\"\\nThe true angles after considering the angle on the table are\n",
    "{np.round(true_angle,2)}\"\"\")\n",
    "\n",
    "#calculate the mean and std on the true angle\n",
    "y=true_angle\n",
    "sy = np.array([std_angles_orinent1,std_angles_orinent2])\n",
    "angle, std_angle, res_angle, chi2_angle, ndof_angle, prob_angle =constant_fit(y, sy)\n",
    "\n",
    "print(f\"\"\"\\nTotal mean angle:\\n{angle:.2f}+/- {std_angle:.2f}\n",
    "P(chi2 = {chi2_angle:.1f}), Ndof = {ndof_angle}) = {prob_angle:.2f} \"\"\")\n",
    "\n",
    "from math import sin, pi, atan\n",
    "sin_angle = sin((angle)*pi/180) #* 180/pi there was a big error from here, angle maybe a huge source of uncertanty \n",
    "print(f'sine angle: {sin_angle:.3f}')"
   ]
  },
  {
   "cell_type": "markdown",
   "metadata": {},
   "source": [
    "### gravity calculation"
   ]
  },
  {
   "cell_type": "code",
   "execution_count": 27,
   "metadata": {},
   "outputs": [],
   "source": [
    "#calculate gravity using fg\n",
    "gravity = fg(acc_fit*2,((angle-.6)*pi/180),ball_diameter_mean,rail_mean)\n",
    "           "
   ]
  },
  {
   "cell_type": "code",
   "execution_count": 28,
   "metadata": {},
   "outputs": [],
   "source": [
    "# NIST true gravity [ m/s^(-2) ]\n",
    "gravity_true = 9.80665"
   ]
  },
  {
   "cell_type": "code",
   "execution_count": 29,
   "metadata": {},
   "outputs": [
    {
     "name": "stdout",
     "output_type": "stream",
     "text": [
      "gravity from data:9.65 [m/s^2]\n",
      "procentage difference from true gravity:1.64%\n"
     ]
    }
   ],
   "source": [
    "print(f'gravity from data:{gravity:.2f} [m/s^2]')  # get uncertanty \n",
    "print(f'procentage difference from true gravity:{round(abs((gravity-gravity_true)/gravity_true)*100,2)}%')"
   ]
  },
  {
   "cell_type": "markdown",
   "metadata": {},
   "source": [
    "### Gravity errors"
   ]
  },
  {
   "cell_type": "code",
   "execution_count": 30,
   "metadata": {},
   "outputs": [
    {
     "data": {
      "text/plain": [
       "0.11037901029698886"
      ]
     },
     "execution_count": 30,
     "metadata": {},
     "output_type": "execute_result"
    }
   ],
   "source": [
    "#calculate errors on g using fdg function\n",
    "a = acceleration_iminuit\n",
    "da = error_acceleration\n",
    "theta = angle*pi/180\n",
    "dtheta =  std_angle*pi/180\n",
    "D_ball = mean_D_ball\n",
    "dD_ball = std_D_ball\n",
    "d_rail = mean_rail\n",
    "dd_rail = std_rail #where is the uncertanty on the rail?\n",
    "gravity_std = fdg (a,da,theta,dtheta,D_ball,dD_ball,d_rail,dd_rail)\n",
    "gravity_std\n"
   ]
  },
  {
   "cell_type": "code",
   "execution_count": 31,
   "metadata": {},
   "outputs": [
    {
     "name": "stdout",
     "output_type": "stream",
     "text": [
      "The value calculated for g is:\n",
      " g=9.6 +/- 0.1 [m/s^2]\n"
     ]
    }
   ],
   "source": [
    "print(f'The value calculated for g is:\\n g={gravity:1.2} +/- {gravity_std:1.1} [m/s^2]')"
   ]
  },
  {
   "cell_type": "code",
   "execution_count": null,
   "metadata": {},
   "outputs": [],
   "source": []
  }
 ],
 "metadata": {
  "kernelspec": {
   "display_name": "Python 3 (ipykernel)",
   "language": "python",
   "name": "python3"
  },
  "language_info": {
   "codemirror_mode": {
    "name": "ipython",
    "version": 3
   },
   "file_extension": ".py",
   "mimetype": "text/x-python",
   "name": "python",
   "nbconvert_exporter": "python",
   "pygments_lexer": "ipython3",
   "version": "3.9.7"
  }
 },
 "nbformat": 4,
 "nbformat_minor": 2
}
